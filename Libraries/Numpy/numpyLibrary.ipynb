{
 "cells": [
  {
   "cell_type": "markdown",
   "id": "0200feda-5e4f-40fb-a9a5-f1301ae531d4",
   "metadata": {},
   "source": [
    "# Attributes of `ndarray` in NumPy\n",
    "\n",
    "| Attribute        | Description                                                                                                 |\n",
    "|------------------|-------------------------------------------------------------------------------------------------------------|\n",
    "| `ndarray.ndim`   | The number of axes (dimensions) of the array.                                                               |\n",
    "| `ndarray.shape`  | The dimensions of the array. This is a tuple of integers indicating the size of the array in each dimension.|\n",
    "| `ndarray.size`   | The total number of elements in the array. This is equal to the product of the elements of `shape`.         |\n",
    "| `ndarray.dtype`  | The data type of the elements in the array. This is an instance of `numpy.dtype`.                           |\n",
    "| `ndarray.itemsize`| The size in bytes of each element in the array. For example, an array of elements with data type `float64` has an itemsize of 8 bytes. |\n",
    "| `ndarray.data`   | The buffer containing the actual elements of the array. Normally, we won't need to use this attribute as we will access the elements using indexing. |\n",
    "| `ndarray.strides`| The number of bytes to step in each dimension when traversing an array.                                     |\n",
    "| `ndarray.flags`  | Information about the memory layout of the array, such as whether it is C-contiguous or Fortran-contiguous. |\n",
    "| `ndarray.flat`   | A 1-D iterator over the array.                                                                              |\n",
    "| `ndarray.real`   | The real part of the array.                                                                                 |\n",
    "| `ndarray.imag`   | The imaginary part of the array.                                                                            |\n",
    "| `ndarray.T`      | The transposed array. For 2-D arrays, this is the usual matrix transpose.                                   |\n",
    "| `ndarray.ctypes` | An object to simplify the interaction of the array with ctypes.                                             |\n",
    "| `ndarray.base`   | If the array is a view, this attribute refers to the original object. If the array owns its own data, this is `None`. |\n"
   ]
  },
  {
   "cell_type": "markdown",
   "id": "59ef0039-c44b-4797-9353-996e224bb160",
   "metadata": {},
   "source": [
    "# Functions of `ndarray` in NumPy\n",
    "\n",
    "| Function                     | Description                                                                                       |\n",
    "|------------------------------|---------------------------------------------------------------------------------------------------|\n",
    "| `ndarray.astype(dtype)`      | Returns a copy of the array cast to a specified type.                                             |\n",
    "| `ndarray.copy()`             | Returns a copy of the array.                                                                      |\n",
    "| `ndarray.reshape(shape)`     | Returns an array containing the same data with a new shape.                                       |\n",
    "| `ndarray.flatten()`          | Returns a copy of the array collapsed into one dimension.                                         |\n",
    "| `ndarray.transpose(*axes)`   | Returns a view of the array with axes transposed.                                                 |\n",
    "| `ndarray.swapaxes(axis1, axis2)` | Returns a view of the array with `axis1` and `axis2` interchanged.                               |\n",
    "| `ndarray.ravel()`            | Returns a flattened array.                                                                        |\n",
    "| `ndarray.squeeze(axis=None)` | Removes single-dimensional entries from the shape of the array.                                   |\n",
    "| `ndarray.take(indices, axis=None)` | Returns an array formed from the elements of the original array at the given indices along the specified axis. |\n",
    "| `ndarray.put(indices, values, mode='raise')` | Sets `a.flat[n] = values[n]` for all `n` in `indices`.                                       |\n",
    "| `ndarray.repeat(repeats, axis=None)` | Repeats elements of an array.                                                            |\n",
    "| `ndarray.sort(axis=-1, kind=None, order=None)` | Sorts the array along the specified axis.                                         |\n",
    "| `ndarray.argsort(axis=-1, kind=None, order=None)` | Returns the indices that would sort this array.                              |\n",
    "| `ndarray.argmax(axis=None)`  | Returns the indices of the maximum values along an axis.                                          |\n",
    "| `ndarray.argmin(axis=None)`  | Returns the indices of the minimum values along an axis.                                          |\n",
    "| `ndarray.mean(axis=None, dtype=None, out=None, keepdims=False)` | Returns the arithmetic mean along the specified axis.               |\n",
    "| `ndarray.sum(axis=None, dtype=None, out=None, keepdims=False)` | Returns the sum of the array elements over the specified axis.       |\n",
    "| `ndarray.cumsum(axis=None, dtype=None, out=None)` | Returns the cumulative sum of the elements along a given axis.              |\n",
    "| `ndarray.min(axis=None, out=None, keepdims=False)` | Returns the minimum along a given axis.                                      |\n",
    "| `ndarray.max(axis=None, out=None, keepdims=False)` | Returns the maximum along a given axis.                                      |\n",
    "| `ndarray.std(axis=None, dtype=None, out=None, ddof=0, keepdims=False)` | Returns the standard deviation along the specified axis.   |\n",
    "| `ndarray.var(axis=None, dtype=None, out=None, ddof=0, keepdims=False)` | Returns the variance along the specified axis.             |\n",
    "| `ndarray.prod(axis=None, dtype=None, out=None, keepdims=False)` | Returns the product of the array elements over the specified axis.  |\n",
    "| `ndarray.cumprod(axis=None, dtype=None, out=None)` | Returns the cumulative product of the elements along a given axis.           |\n",
    "| `ndarray.all(axis=None, out=None, keepdims=False)` | Returns True if all elements evaluate to True.                               |\n",
    "| `ndarray.any(axis=None, out=None, keepdims=False)` | Returns True if any of the elements of `a` evaluate to True.                  |\n"
   ]
  },
  {
   "cell_type": "markdown",
   "id": "a99df084-451f-49fa-a2d0-711aef5e9e9f",
   "metadata": {},
   "source": [
    "# Slicing"
   ]
  },
  {
   "cell_type": "markdown",
   "id": "b5abfbed-abb0-4885-808a-13f1504a9316",
   "metadata": {},
   "source": [
    "<img src=\"https://cf-courses-data.s3.us.cloud-object-storage.appdomain.cloud/IBMDeveloperSkillsNetwork-PY0101EN-SkillsNetwork/labs/Module%205/images/NumTwoEg.png\" width=\"500\">"
   ]
  }
 ],
 "metadata": {
  "kernelspec": {
   "display_name": "Python 3 (ipykernel)",
   "language": "python",
   "name": "python3"
  },
  "language_info": {
   "codemirror_mode": {
    "name": "ipython",
    "version": 3
   },
   "file_extension": ".py",
   "mimetype": "text/x-python",
   "name": "python",
   "nbconvert_exporter": "python",
   "pygments_lexer": "ipython3",
   "version": "3.8.10"
  }
 },
 "nbformat": 4,
 "nbformat_minor": 5
}
