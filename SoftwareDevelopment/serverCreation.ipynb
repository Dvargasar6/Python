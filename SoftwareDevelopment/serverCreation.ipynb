{
 "cells": [
  {
   "cell_type": "markdown",
   "metadata": {},
   "source": [
    "## Create a server with `socket` library."
   ]
  },
  {
   "cell_type": "code",
   "execution_count": null,
   "metadata": {},
   "outputs": [],
   "source": [
    "from socket import *\n",
    "\n",
    "def createServer():\n",
    "\n",
    "  #Create the socket.\n",
    "  serversocket = socket(AF_INET, SOCK_STREAM)\n",
    "\n",
    "  try:\n",
    "    #Associate the socket with a network address. In this case IP: localhost and Port:3000.\n",
    "    serversocket.bind(('localhost',3000))\n",
    "    #Become the socket in a listening socket. Now can accept incoming connection request.\n",
    "    # The parameter specifies the maximum number of connections.\n",
    "    serversocket.listen(5)\n",
    "\n",
    "    #infinty cicle:\n",
    "    while(1):\n",
    "\n",
    "        #Create the client socket and connect with the server socket.\n",
    "        #If connect from client-server socked.connect() method is used.\n",
    "        clientsocket, address = serversocket.accept()\n",
    "\n",
    "        #Receives data from a connected socket and decode information to Unicode.\n",
    "        rd = clientsocket.recv(5000).decode() #Receive up to 5000 bytes of data.\n",
    "        pieces = rd.split(\"\\n\")\n",
    "        \n",
    "        if (len(pieces) > 0): print(pieces[0])\n",
    "\n",
    "        #Code in markup language. In this case HTML.\n",
    "        data = \"HTTP/1.0 200 OK\\r\\n\"\n",
    "        data += \"Content-Type: text/html; charset=utf-8\\r\\n\"\n",
    "        data += \"\\r\\n\"\n",
    "        data += \"<html><body><h1>Hello World</h1></body></html>\\r\\n\\r\\n\"\n",
    "\n",
    "        #Encode Unicode to UTF-8 and send to client socket.\n",
    "        clientsocket.sendall(data.encode())\n",
    "        #Shut down the connection between the sockets.\n",
    "        clientsocket.shutdown(SHUT_WR)\n",
    "\n",
    "  except KeyboardInterrupt:\n",
    "    print(\"Server stopped...\\n\")\n",
    "\n",
    "  except Exception as exc:\n",
    "    print(\"Error: \")\n",
    "    print(exc)\n",
    "\n",
    "  serversocket.close()\n",
    "  clientsocket.close()\n",
    "\n",
    "print(\"Access http://localhost:3000\")\n",
    "createServer()"
   ]
  },
  {
   "cell_type": "markdown",
   "metadata": {},
   "source": [
    "## Create a client with `socket` library:"
   ]
  },
  {
   "cell_type": "code",
   "execution_count": null,
   "metadata": {},
   "outputs": [],
   "source": [
    "from socket import *\n",
    "\n",
    "#Create the socket.\n",
    "mysock = socket(AF_INET, SOCK_STREAM)\n",
    "\n",
    "#Connect the socket to a network address.\n",
    "#Equivalent to accept for client sockets.\n",
    "mysock.connect(('127.0.0.1', 3000)) #Host:localhost, TCP port: 3000.\n",
    "\n",
    "#Encode from Unicode to UTF-8 and send to mysock.\n",
    "# GET is the HTTP method that retrieves data from the specified resource.\n",
    "mysock.send('GET http://127.0.0.1/romeo.txt HTTP/1.0\\r\\n\\r\\n'.encode())\n",
    "\n",
    "while True:\n",
    "    data = mysock.recv(512)\n",
    "    if (len(data) < 1):\n",
    "        break\n",
    "    print(data.decode('utf-8'), end = '')\n",
    "\n",
    "mysock.close()"
   ]
  }
 ],
 "metadata": {
  "language_info": {
   "name": "python"
  }
 },
 "nbformat": 4,
 "nbformat_minor": 2
}
