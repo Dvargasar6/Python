{
 "cells": [
  {
   "cell_type": "markdown",
   "id": "336f2d12-f165-47d3-b414-bda0cdfcc77c",
   "metadata": {},
   "source": [
    "# Creación de arrays con Numpy:"
   ]
  },
  {
   "cell_type": "markdown",
   "id": "a5f78e98-629b-428c-902b-385c7715e002",
   "metadata": {},
   "source": [
    "Funciones importantes para la creación de arrays."
   ]
  },
  {
   "cell_type": "markdown",
   "id": "98361d58-caaf-4eb9-b52d-5c21f9ad57d2",
   "metadata": {},
   "source": [
    "## Numpy.array"
   ]
  },
  {
   "cell_type": "markdown",
   "id": "e38c3918-141b-43cd-8556-79069134ea1c",
   "metadata": {},
   "source": [
    "Creación manual de un array."
   ]
  },
  {
   "cell_type": "code",
   "execution_count": 105,
   "id": "67bd38a8-3d2b-4635-91ec-9c229a8c675b",
   "metadata": {},
   "outputs": [],
   "source": [
    "import numpy as np\n",
    "arreglo=np.array([[1,2],\n",
    "                  [3,4]])"
   ]
  },
  {
   "cell_type": "markdown",
   "id": "17e37918-a215-4603-9eb9-8a942c4ca9d5",
   "metadata": {},
   "source": [
    "## Numpy.copy"
   ]
  },
  {
   "cell_type": "code",
   "execution_count": 109,
   "id": "16d5d7ee-ddf9-42c8-9890-b7a02b6ead72",
   "metadata": {},
   "outputs": [],
   "source": [
    "import numpy as np\n",
    "arreglo=np.array([[1,2],[3,4]]) \n",
    "copia=np.copy(arreglo)\n",
    "# Equivalente a: \n",
    "#copia=np.array(arreglo,copy=True)"
   ]
  },
  {
   "cell_type": "code",
   "execution_count": 110,
   "id": "d824c220-0b9c-4321-a36a-f38e7111946f",
   "metadata": {},
   "outputs": [
    {
     "data": {
      "text/plain": [
       "array([[1, 2],\n",
       "       [3, 4]])"
      ]
     },
     "execution_count": 110,
     "metadata": {},
     "output_type": "execute_result"
    }
   ],
   "source": [
    "arreglo"
   ]
  },
  {
   "cell_type": "code",
   "execution_count": 111,
   "id": "788cfd22-d3dc-462d-ae06-78816623cf34",
   "metadata": {},
   "outputs": [
    {
     "data": {
      "text/plain": [
       "array([[1, 2],\n",
       "       [3, 4]])"
      ]
     },
     "execution_count": 111,
     "metadata": {},
     "output_type": "execute_result"
    }
   ],
   "source": [
    "copia"
   ]
  },
  {
   "cell_type": "markdown",
   "id": "4a8b57ae-bc31-4373-bd2d-4e5073db7851",
   "metadata": {},
   "source": [
    "Si se realiza una modifiación:"
   ]
  },
  {
   "cell_type": "code",
   "execution_count": 112,
   "id": "915a42fc-9659-4de6-8ec4-f77e418f1566",
   "metadata": {},
   "outputs": [
    {
     "data": {
      "text/plain": [
       "array([[4, 2],\n",
       "       [3, 4]])"
      ]
     },
     "execution_count": 112,
     "metadata": {},
     "output_type": "execute_result"
    }
   ],
   "source": [
    "arreglo[0][0]=4\n",
    "arreglo"
   ]
  },
  {
   "cell_type": "code",
   "execution_count": 113,
   "id": "41633d58-0662-4a55-8c86-5550ec254116",
   "metadata": {},
   "outputs": [
    {
     "data": {
      "text/plain": [
       "array([[1, 2],\n",
       "       [3, 4]])"
      ]
     },
     "execution_count": 113,
     "metadata": {},
     "output_type": "execute_result"
    }
   ],
   "source": [
    "copia"
   ]
  },
  {
   "cell_type": "markdown",
   "id": "9d4d36e3-2d40-4fff-9230-05706b048389",
   "metadata": {},
   "source": [
    "## Numpy.arange"
   ]
  },
  {
   "cell_type": "markdown",
   "id": "5e5f961b-99d2-4dd0-ad89-962252f2be2b",
   "metadata": {},
   "source": [
    "Array equiespaciado."
   ]
  },
  {
   "cell_type": "code",
   "execution_count": 122,
   "id": "f8a34cc3-5b15-4a08-9a57-554e98333a41",
   "metadata": {},
   "outputs": [
    {
     "data": {
      "text/plain": [
       "array([3, 4, 5])"
      ]
     },
     "execution_count": 122,
     "metadata": {},
     "output_type": "execute_result"
    }
   ],
   "source": [
    "import numpy as np\n",
    "arange=np.arange(3,7,1.5,dtype=int) #Inicio, final, paso\n",
    "arange"
   ]
  },
  {
   "cell_type": "markdown",
   "id": "4d71502f-3337-485a-9d99-97affaae1263",
   "metadata": {},
   "source": [
    "## Numpy.linspace"
   ]
  },
  {
   "cell_type": "markdown",
   "id": "6259ef6c-463c-45eb-9eef-387fae8d9098",
   "metadata": {},
   "source": [
    "Array equiespaciado con cantidad dada."
   ]
  },
  {
   "cell_type": "code",
   "execution_count": 129,
   "id": "817e6874-e791-4433-a0c3-06e104f0c941",
   "metadata": {},
   "outputs": [
    {
     "data": {
      "text/plain": [
       "(array([ 4,  5,  7,  8, 10, 12, 13, 15, 16, 18]), 1.6)"
      ]
     },
     "execution_count": 129,
     "metadata": {},
     "output_type": "execute_result"
    }
   ],
   "source": [
    "import numpy as np\n",
    "linspace=np.linspace(4,20,10,endpoint=False,dtype=int,retstep=True)\n",
    "#retstep: muestra el paso que toma\n",
    "linspace"
   ]
  },
  {
   "cell_type": "markdown",
   "id": "17b26735-633a-43ee-97e2-ec72542e3b20",
   "metadata": {},
   "source": [
    "## Numpy.logspace"
   ]
  },
  {
   "cell_type": "markdown",
   "id": "d5b61b21-ac29-4227-9788-1212c50fbf6b",
   "metadata": {},
   "source": [
    "Array espaciado en escala logarítmica."
   ]
  },
  {
   "cell_type": "code",
   "execution_count": 133,
   "id": "3bd0e477-a350-4c7e-9f15-cd2345fe1e7c",
   "metadata": {},
   "outputs": [
    {
     "data": {
      "text/plain": [
       "array([4.000000e+00, 1.600000e+01, 6.400000e+01, 2.560000e+02,\n",
       "       1.024000e+03, 4.096000e+03, 1.638400e+04, 6.553600e+04,\n",
       "       2.621440e+05, 1.048576e+06])"
      ]
     },
     "execution_count": 133,
     "metadata": {},
     "output_type": "execute_result"
    }
   ],
   "source": [
    "import numpy as np\n",
    "log=np.logspace(1,10,10,base=4) #base^inicio,base^final,cantidad\n",
    "log"
   ]
  },
  {
   "cell_type": "markdown",
   "id": "aa53fdd2-048f-4673-a0fe-ae77c5c6eb5c",
   "metadata": {},
   "source": [
    "## Numpy.empty"
   ]
  },
  {
   "cell_type": "markdown",
   "id": "9d812393-5221-4eac-a483-4234b9cb86cf",
   "metadata": {},
   "source": [
    "Crea un array con entradas no inicializadas.\n",
    "Sirve para tener cierto arreglo que luego podemos modificar o ingresar valores."
   ]
  },
  {
   "cell_type": "code",
   "execution_count": 11,
   "id": "2944fe8e-ebf7-4e5e-a609-a3d3d8504696",
   "metadata": {},
   "outputs": [
    {
     "data": {
      "text/plain": [
       "array([[1.25975398e-311, 2.46151512e-312],\n",
       "       [1.93101617e-312, 1.97345609e-312]])"
      ]
     },
     "execution_count": 11,
     "metadata": {},
     "output_type": "execute_result"
    }
   ],
   "source": [
    "import numpy as np\n",
    "empty=np.empty([2,2]) # El argumento principal es la forma del arreglo\n",
    "empty"
   ]
  },
  {
   "cell_type": "markdown",
   "id": "9ee70d04-b79a-46dd-9870-f9316d26d2d6",
   "metadata": {},
   "source": [
    "### <span style=\"color:darkgray\">Numpy.empty_like</span>"
   ]
  },
  {
   "cell_type": "markdown",
   "id": "7bb7f1d0-ff6c-4d42-9966-8abd9d18373b",
   "metadata": {},
   "source": [
    "Todos las funciones \"like\" de Numpy tienen la misma función que la función original pero con un arreglo de referencia como entrada."
   ]
  },
  {
   "cell_type": "code",
   "execution_count": 55,
   "id": "1047b078-4c9f-4415-a8c4-91766655eb02",
   "metadata": {},
   "outputs": [
    {
     "data": {
      "text/plain": [
       "array([[-1400739584,         593,           0],\n",
       "       [          0,      131074, -2147483648]])"
      ]
     },
     "execution_count": 55,
     "metadata": {},
     "output_type": "execute_result"
    }
   ],
   "source": [
    "import numpy as np\n",
    "a = ([1,2,3], [4,5,6])                         \n",
    "np.empty_like(a)"
   ]
  },
  {
   "cell_type": "markdown",
   "id": "6fb233e7-5623-4545-bda5-b6fb7d621e36",
   "metadata": {},
   "source": [
    "## Numpy.zeros, Numpy.ones y Numpy.full"
   ]
  },
  {
   "cell_type": "markdown",
   "id": "6e7cadc6-8b9d-419d-8179-1ced9a079bf5",
   "metadata": {},
   "source": [
    "Crea un array de ceros, unos o con determinado número con una forma determinada."
   ]
  },
  {
   "cell_type": "code",
   "execution_count": 68,
   "id": "5a954e5a-c0ff-4b5c-8bb7-1b14338a9ac2",
   "metadata": {},
   "outputs": [],
   "source": [
    "import numpy as np\n",
    "cero=np.zeros((3,4))\n",
    "uno=np.ones((2,5))\n",
    "full=np.full((2,4),7.5)"
   ]
  },
  {
   "cell_type": "code",
   "execution_count": 61,
   "id": "3c4eaca5-f0ae-4d06-888f-c2ac6459536e",
   "metadata": {},
   "outputs": [
    {
     "data": {
      "text/plain": [
       "array([[0., 0., 0., 0.],\n",
       "       [0., 0., 0., 0.],\n",
       "       [0., 0., 0., 0.]])"
      ]
     },
     "execution_count": 61,
     "metadata": {},
     "output_type": "execute_result"
    }
   ],
   "source": [
    "cero"
   ]
  },
  {
   "cell_type": "code",
   "execution_count": 62,
   "id": "90956c18-fcec-4270-bacd-a590e148e3b3",
   "metadata": {},
   "outputs": [
    {
     "data": {
      "text/plain": [
       "array([[1., 1., 1., 1., 1.],\n",
       "       [1., 1., 1., 1., 1.]])"
      ]
     },
     "execution_count": 62,
     "metadata": {},
     "output_type": "execute_result"
    }
   ],
   "source": [
    "uno"
   ]
  },
  {
   "cell_type": "code",
   "execution_count": 69,
   "id": "361fd898-29e9-4c26-b7d5-374203f6fa08",
   "metadata": {},
   "outputs": [
    {
     "data": {
      "text/plain": [
       "array([[7.5, 7.5, 7.5, 7.5],\n",
       "       [7.5, 7.5, 7.5, 7.5]])"
      ]
     },
     "execution_count": 69,
     "metadata": {},
     "output_type": "execute_result"
    }
   ],
   "source": [
    "full"
   ]
  },
  {
   "cell_type": "markdown",
   "id": "7d755bc4-2aca-4367-ab54-ccc246bb163e",
   "metadata": {},
   "source": [
    "### <span style=\"color:Darkgray\">Numpy.zeros_like y Numpy.ones_like</span>"
   ]
  },
  {
   "cell_type": "code",
   "execution_count": 71,
   "id": "913136ab-8dbf-40f1-bbde-a12beb66427a",
   "metadata": {},
   "outputs": [],
   "source": [
    "import numpy as np\n",
    "arreglo=np.array([[1,2],[3,4]])\n",
    "ceroslike=np.zeros_like(arreglo)\n",
    "unoslike=np.ones_like(arreglo)\n",
    "fulllike=np.full_like(arreglo,3)"
   ]
  },
  {
   "cell_type": "code",
   "execution_count": 64,
   "id": "c78184eb-6b6d-45bc-b947-583cae4f6b76",
   "metadata": {},
   "outputs": [
    {
     "data": {
      "text/plain": [
       "array([[0, 0],\n",
       "       [0, 0]])"
      ]
     },
     "execution_count": 64,
     "metadata": {},
     "output_type": "execute_result"
    }
   ],
   "source": [
    "ceroslike"
   ]
  },
  {
   "cell_type": "code",
   "execution_count": 65,
   "id": "04f23c4b-6920-4fbb-b26d-771d6e912ebb",
   "metadata": {},
   "outputs": [
    {
     "data": {
      "text/plain": [
       "array([[1, 1],\n",
       "       [1, 1]])"
      ]
     },
     "execution_count": 65,
     "metadata": {},
     "output_type": "execute_result"
    }
   ],
   "source": [
    "unoslike"
   ]
  },
  {
   "cell_type": "code",
   "execution_count": 72,
   "id": "057c7c5d-ee91-4b55-b990-d6a4879fdde1",
   "metadata": {},
   "outputs": [
    {
     "data": {
      "text/plain": [
       "array([[3, 3],\n",
       "       [3, 3]])"
      ]
     },
     "execution_count": 72,
     "metadata": {},
     "output_type": "execute_result"
    }
   ],
   "source": [
    "fulllike"
   ]
  },
  {
   "cell_type": "markdown",
   "id": "719d1426-9d17-40ef-94e9-9ae04a52afea",
   "metadata": {},
   "source": [
    "## Numpy.identity"
   ]
  },
  {
   "cell_type": "markdown",
   "id": "d185f2f4-058e-4bae-a9e6-b38a85333293",
   "metadata": {},
   "source": [
    "Crea una matriz identidad como un arreglo de Numpy."
   ]
  },
  {
   "cell_type": "code",
   "execution_count": 67,
   "id": "315ef5df-7205-4467-a570-9230756e53c2",
   "metadata": {},
   "outputs": [
    {
     "data": {
      "text/plain": [
       "array([[1., 0., 0., 0.],\n",
       "       [0., 1., 0., 0.],\n",
       "       [0., 0., 1., 0.],\n",
       "       [0., 0., 0., 1.]])"
      ]
     },
     "execution_count": 67,
     "metadata": {},
     "output_type": "execute_result"
    }
   ],
   "source": [
    "import numpy as np\n",
    "identidad=np.identity(4)\n",
    "identidad"
   ]
  },
  {
   "cell_type": "markdown",
   "id": "6678a173-be79-4423-a907-1b05e0f45ac9",
   "metadata": {},
   "source": [
    "## Numpy.diag"
   ]
  },
  {
   "cell_type": "markdown",
   "id": "c03a9690-45de-4541-a6f2-302ea55e462d",
   "metadata": {},
   "source": [
    "Obtiene una diagonal de una matriz."
   ]
  },
  {
   "cell_type": "code",
   "execution_count": 134,
   "id": "b7ce30c6-84aa-40f3-bb15-0a3d7232d1cb",
   "metadata": {},
   "outputs": [
    {
     "data": {
      "text/plain": [
       "array([[0, 1, 2],\n",
       "       [3, 4, 5],\n",
       "       [6, 7, 8]])"
      ]
     },
     "execution_count": 134,
     "metadata": {},
     "output_type": "execute_result"
    }
   ],
   "source": [
    "import numpy as np\n",
    "x = np.arange(9).reshape((3,3))\n",
    "x"
   ]
  },
  {
   "cell_type": "code",
   "execution_count": 138,
   "id": "b2118d6d-c466-481d-a61d-691883c5e1ae",
   "metadata": {},
   "outputs": [
    {
     "data": {
      "text/plain": [
       "array([3, 7])"
      ]
     },
     "execution_count": 138,
     "metadata": {},
     "output_type": "execute_result"
    }
   ],
   "source": [
    "diag=np.diag(x,k=-1) \n",
    "#k representa el número de la diagonal, por defecto k=0\n",
    "diag"
   ]
  },
  {
   "cell_type": "code",
   "execution_count": null,
   "id": "f67c3c81-0b73-44d2-b763-f4b27d44a24e",
   "metadata": {},
   "outputs": [],
   "source": []
  }
 ],
 "metadata": {
  "kernelspec": {
   "display_name": "Python 3 (ipykernel)",
   "language": "python",
   "name": "python3"
  },
  "language_info": {
   "codemirror_mode": {
    "name": "ipython",
    "version": 3
   },
   "file_extension": ".py",
   "mimetype": "text/x-python",
   "name": "python",
   "nbconvert_exporter": "python",
   "pygments_lexer": "ipython3",
   "version": "3.9.12"
  }
 },
 "nbformat": 4,
 "nbformat_minor": 5
}
