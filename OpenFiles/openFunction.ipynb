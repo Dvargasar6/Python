{
 "cells": [
  {
   "cell_type": "markdown",
   "id": "1e478bb5-1904-4a1e-b953-679b7c93679a",
   "metadata": {},
   "source": [
    "# Read files with `open`:"
   ]
  },
  {
   "cell_type": "code",
   "execution_count": 60,
   "id": "41ee8dcf-6813-422b-a297-b8b9eff4409b",
   "metadata": {},
   "outputs": [
    {
     "data": {
      "text/plain": [
       "'Hola\\nSoy\\nDaniel\\nFelipe\\n\\n'"
      ]
     },
     "execution_count": 60,
     "metadata": {},
     "output_type": "execute_result"
    }
   ],
   "source": [
    "path = 'Documents/TextFile'\n",
    "fileText = open(path,'r')\n",
    "fileText.read()"
   ]
  },
  {
   "cell_type": "code",
   "execution_count": 61,
   "id": "4c8d102c-8761-40ba-a44f-0ddc774f489b",
   "metadata": {},
   "outputs": [],
   "source": [
    "fileText.close()"
   ]
  },
  {
   "cell_type": "markdown",
   "id": "b8cf9103-a4d8-4164-b598-7c4e2439e2e9",
   "metadata": {},
   "source": [
    "Files parameters: \\\n",
    "Name of file: `fileName.name` \\\n",
    "Mode of file: `fileName.mode` \\\n",
    "Close file: `fileName.close()` and `fileName.closed` "
   ]
  },
  {
   "cell_type": "markdown",
   "id": "e0955843-fbc9-48cf-a8a2-1219371f6936",
   "metadata": {},
   "source": [
    "Here `fileText2` is a file and `fileRead` is a string with the file values. The argument of the method is the len of the string."
   ]
  },
  {
   "cell_type": "code",
   "execution_count": 56,
   "id": "80d12797-cd47-4f56-96c6-9d03b6896bf6",
   "metadata": {},
   "outputs": [
    {
     "name": "stdout",
     "output_type": "stream",
     "text": [
      "Hola\n",
      "Soy\n",
      "Daniel\n",
      "Felipe\n",
      "\n",
      "\n"
     ]
    }
   ],
   "source": [
    "with open(path,'r') as fileText2:\n",
    "    fileRead = fileText2.read()\n",
    "    print(fileRead)\n",
    "    \n",
    "fileText2.close()"
   ]
  },
  {
   "cell_type": "markdown",
   "id": "56e126be-3d18-4f08-9a0c-0aae1472895b",
   "metadata": {},
   "source": [
    "The method `readline()` calls the file row in order to is called:"
   ]
  },
  {
   "cell_type": "code",
   "execution_count": 43,
   "id": "30f84f48-f207-48ee-83e3-53e1a34c428a",
   "metadata": {},
   "outputs": [
    {
     "name": "stdout",
     "output_type": "stream",
     "text": [
      "Hola\n",
      " S oy\n",
      " Daniel\n",
      "\n"
     ]
    }
   ],
   "source": [
    "with open(path,'r') as fileText2:\n",
    "    fileRead1 = fileText2.readline()\n",
    "    fileRead2 = fileText2.readline(1)\n",
    "    fileRead3 = fileText2.readline()\n",
    "    fileRead4 = fileText2.readline()\n",
    "    \n",
    "print(fileRead1,fileRead2,fileRead3, fileRead4)"
   ]
  },
  {
   "cell_type": "markdown",
   "id": "6cba2a05-6071-409d-8852-c086ec950784",
   "metadata": {},
   "source": [
    "The method `seek` moves the file pointer to a particular position:"
   ]
  },
  {
   "cell_type": "code",
   "execution_count": 63,
   "id": "9affe1e8-309f-4cbd-b5d3-0229390fa74b",
   "metadata": {},
   "outputs": [
    {
     "data": {
      "text/plain": [
       "'aniel\\nFelipe\\n\\n'"
      ]
     },
     "execution_count": 63,
     "metadata": {},
     "output_type": "execute_result"
    }
   ],
   "source": [
    "path = 'Documents/TextFile'\n",
    "fileText = open(path,'r')\n",
    "fileText.seek(10)\n",
    "fileText.read()"
   ]
  },
  {
   "cell_type": "markdown",
   "id": "8ae76e9e-b36a-4322-9043-30f06bd5b301",
   "metadata": {},
   "source": [
    "# Write files with `open`:"
   ]
  },
  {
   "cell_type": "markdown",
   "id": "aaa483e0-596f-478e-a8a7-64d3e42fa888",
   "metadata": {},
   "source": [
    "Every time the `.write()` method is executed, the new values will be added to the file:"
   ]
  },
  {
   "cell_type": "code",
   "execution_count": 10,
   "id": "cf4c974c-9a7c-40ae-858f-dde7fe67ff4f",
   "metadata": {},
   "outputs": [],
   "source": [
    "path = '0.Documents/fileText.txt'\n",
    "with open(path,'w') as fileWrite:\n",
    "    fileWrite.write('Hi, I am\\nDaniel')\n",
    "    fileWrite.write('My last name is Vargas.')\n",
    "    fileWrite.write('I am student')"
   ]
  },
  {
   "cell_type": "markdown",
   "id": "0ef007a8-316b-4f3f-b6a3-0304bba4c35b",
   "metadata": {},
   "source": [
    "The mode write `'w'` always create a new file, but if we want append information to existent file we can use the mode append `'a'`."
   ]
  },
  {
   "cell_type": "code",
   "execution_count": 14,
   "id": "7e45acce-f607-4e98-bb4a-a89b35411a26",
   "metadata": {},
   "outputs": [],
   "source": [
    "with open(path,'a') as fileWrite:\n",
    "    fileWrite.write('\\n A new line.')"
   ]
  },
  {
   "cell_type": "markdown",
   "id": "75265784-01a0-4bad-985a-84a86fd61fa3",
   "metadata": {},
   "source": [
    "# All modes for `open`:"
   ]
  },
  {
   "cell_type": "markdown",
   "id": "4df5738a-c40d-434d-a450-2955a1acf1be",
   "metadata": {},
   "source": [
    "| Mode | Description                                                                 |\n",
    "|------|-----------------------------------------------------------------------------|\n",
    "| 'r'  | Open for reading (default). Raises an error if the file does not exist.     |\n",
    "| 'w'  | Open for writing. Creates a new file or truncates the existing file.        |\n",
    "| 'x'  | Open for exclusive creation. Raises an error if the file already exists.    |\n",
    "| 'a'  | Open for writing. Creates a new file if it does not exist.                  |\n",
    "| 'b'  | Binary mode.                                                                |\n",
    "| 't'  | Text mode (default).                                                        |\n",
    "| '+'  | Open for updating (reading and writing).                                    |\n",
    "| 'rb' | Open for reading in binary mode. Raises an error if the file does not exist.|\n",
    "| 'wb' | Open for writing in binary mode. Creates a new file or truncates the existing file. |\n",
    "| 'xb' | Open for exclusive creation in binary mode. Raises an error if the file already exists. |\n",
    "| 'ab' | Open for writing in binary mode. Creates a new file if it does not exist.   |\n",
    "| 'rt' | Open for reading in text mode (default).                                    |\n",
    "| 'wt' | Open for writing in text mode. Creates a new file or truncates the existing file. |\n",
    "| 'xt' | Open for exclusive creation in text mode. Raises an error if the file already exists. |\n",
    "| 'at' | Open for writing in text mode. Creates a new file if it does not exist.     |\n",
    "| 'r+' | Open for reading and writing. Raises an error if the file does not exist.   |\n",
    "| 'w+' | Open for reading and writing. Creates a new file or truncates the existing file. |\n",
    "| 'x+' | Open for reading and writing. Raises an error if the file already exists.   |\n",
    "| 'a+' | Open for reading and writing. Creates a new file if it does not exist.      |\n",
    "| 'rb+'| Open for reading and writing in binary mode. Raises an error if the file does not exist. |\n",
    "| 'wb+'| Open for reading and writing in binary mode. Creates a new file or truncates the existing file. |\n",
    "| 'xb+'| Open for reading and writing in binary mode. Raises an error if the file already exists. |\n",
    "| 'ab+'| Open for reading and writing in binary mode. Creates a new file if it does not exist. |\n",
    "| 'rt+'| Open for reading and writing in text mode. Raises an error if the file does not exist. |\n",
    "| 'wt+'| Open for reading and writing in text mode. Creates a new file or truncates the existing file. |\n",
    "| 'xt+'| Open for reading and writing in text mode. Raises an error if the file already exists. |\n",
    "| 'at+'| Open for reading and writing in text mode. Creates a new file if it does not exist.      |"
   ]
  },
  {
   "cell_type": "code",
   "execution_count": null,
   "id": "7d9a0b0f-d3a5-4d73-8086-01fcdf6c5120",
   "metadata": {},
   "outputs": [],
   "source": []
  }
 ],
 "metadata": {
  "kernelspec": {
   "display_name": "Python 3 (ipykernel)",
   "language": "python",
   "name": "python3"
  },
  "language_info": {
   "codemirror_mode": {
    "name": "ipython",
    "version": 3
   },
   "file_extension": ".py",
   "mimetype": "text/x-python",
   "name": "python",
   "nbconvert_exporter": "python",
   "pygments_lexer": "ipython3",
   "version": "3.8.10"
  }
 },
 "nbformat": 4,
 "nbformat_minor": 5
}
