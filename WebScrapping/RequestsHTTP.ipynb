{
  "nbformat": 4,
  "nbformat_minor": 0,
  "metadata": {
    "colab": {
      "provenance": []
    },
    "kernelspec": {
      "name": "python3",
      "display_name": "Python 3"
    },
    "language_info": {
      "name": "python"
    }
  },
  "cells": [
    {
      "cell_type": "markdown",
      "source": [
        "<title>HTML methods</title>\n",
        "<div class=\"alert alert-block alert-info\" style=\"margin-top: 20px\">\n",
        "         <img src=\"https://cf-courses-data.s3.us.cloud-object-storage.appdomain.cloud/IBMDeveloperSkillsNetwork-PY0101EN-SkillsNetwork/labs/Module%205/images/http_methods.png\" width=\"400\" align=\"center\">\n",
        "</div>"
      ],
      "metadata": {
        "id": "33MNv-0VzQvf"
      }
    },
    {
      "cell_type": "markdown",
      "source": [
        "<title>Request message on HTML</title>\n",
        "<div class=\"alert alert-block alert-info\" style=\"margin-top: 20px\">\n",
        "         <img src=\"https://cf-courses-data.s3.us.cloud-object-storage.appdomain.cloud/IBMDeveloperSkillsNetwork-PY0101EN-SkillsNetwork/labs/Module%205/images/reqest_messege.png\" width=\"400\" align=\"center\">\n",
        "</div>\n"
      ],
      "metadata": {
        "id": "hnB_Hk8Uzu0q"
      }
    },
    {
      "cell_type": "markdown",
      "source": [
        "<title>Response message on HTML</title>\n",
        "<div class=\"alert alert-block alert-info\" style=\"margin-top: 20px\">\n",
        "         <img src=\"https://cf-courses-data.s3.us.cloud-object-storage.appdomain.cloud/IBMDeveloperSkillsNetwork-PY0101EN-SkillsNetwork/labs/Module%205/images/response_message.png\" width=\"400\" align=\"center\">\n",
        "</div>\n"
      ],
      "metadata": {
        "id": "XY7XZ2rX0YpJ"
      }
    },
    {
      "cell_type": "markdown",
      "source": [
        "<title>HTML status codes</title>\n",
        "<div class=\"alert alert-block alert-info\" style=\"margin-top: 20px\">\n",
        "         <img src=\"https://cf-courses-data.s3.us.cloud-object-storage.appdomain.cloud/IBMDeveloperSkillsNetwork-PY0101EN-SkillsNetwork/labs/Module%205/images/status_code.png\" width=\"300\" align=\"center\">\n",
        "</div>\n"
      ],
      "metadata": {
        "id": "MwHYc62ky59Z"
      }
    },
    {
      "cell_type": "markdown",
      "source": [
        "# `request` library:\n",
        "The `request` library allows use the HTTP methods in Python. \\\n",
        "The objects of library are type `reponse`.\\\n",
        "Some methods of response objects are:\n",
        "`url`, `json`, `status_code`, `text`, `encoding`, `headers`, `body`"
      ],
      "metadata": {
        "id": "x8ZS_TL6vzgc"
      }
    },
    {
      "cell_type": "code",
      "execution_count": null,
      "metadata": {
        "id": "uzUi7YHSurdV"
      },
      "outputs": [],
      "source": [
        "import requests"
      ]
    },
    {
      "cell_type": "code",
      "source": [
        "payload = {\"name\":\"Joseph\",\"ID:\":\"123\"}"
      ],
      "metadata": {
        "id": "X6sagbGjuxCH"
      },
      "execution_count": null,
      "outputs": []
    },
    {
      "cell_type": "markdown",
      "source": [
        "The `GET` method of HTTP request information of a server:"
      ],
      "metadata": {
        "id": "Ulb-WMZMwd9h"
      }
    },
    {
      "cell_type": "code",
      "source": [
        "url_get = 'http://httpbin.org/get'\n",
        "getMethod = requests.get(url_get, params=payload)\n",
        "getMethod.url"
      ],
      "metadata": {
        "colab": {
          "base_uri": "https://localhost:8080/",
          "height": 35
        },
        "id": "5IkWynhkwWUn",
        "outputId": "38e96937-16f6-408d-da9e-84a3e4ea267a"
      },
      "execution_count": null,
      "outputs": [
        {
          "output_type": "execute_result",
          "data": {
            "text/plain": [
              "'http://httpbin.org/get?name=Joseph&ID%3A=123'"
            ],
            "application/vnd.google.colaboratory.intrinsic+json": {
              "type": "string"
            }
          },
          "metadata": {},
          "execution_count": 9
        }
      ]
    },
    {
      "cell_type": "markdown",
      "source": [
        "The `POST` method of HTTP sent information of a server:"
      ],
      "metadata": {
        "id": "oEL-hvJaw4EO"
      }
    },
    {
      "cell_type": "code",
      "source": [
        "url_post = 'http://httpbin.org/post'\n",
        "postMethod = requests.post(url_post, data=payload)\n",
        "postMethod.url"
      ],
      "metadata": {
        "colab": {
          "base_uri": "https://localhost:8080/",
          "height": 35
        },
        "id": "NsiVAkdnwi0w",
        "outputId": "82cdc8e2-dcf8-4452-9a9a-0f9113e0bc0e"
      },
      "execution_count": null,
      "outputs": [
        {
          "output_type": "execute_result",
          "data": {
            "text/plain": [
              "'http://httpbin.org/post'"
            ],
            "application/vnd.google.colaboratory.intrinsic+json": {
              "type": "string"
            }
          },
          "metadata": {},
          "execution_count": 10
        }
      ]
    }
  ]
}