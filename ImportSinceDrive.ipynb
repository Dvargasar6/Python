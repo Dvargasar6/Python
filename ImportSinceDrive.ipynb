{
  "nbformat": 4,
  "nbformat_minor": 0,
  "metadata": {
    "colab": {
      "provenance": [],
      "authorship_tag": "ABX9TyMW+dO78UpVmnvTqK2fB+xP",
      "include_colab_link": true
    },
    "kernelspec": {
      "name": "python3",
      "display_name": "Python 3"
    },
    "language_info": {
      "name": "python"
    }
  },
  "cells": [
    {
      "cell_type": "markdown",
      "metadata": {
        "id": "view-in-github",
        "colab_type": "text"
      },
      "source": [
        "<a href=\"https://colab.research.google.com/github/Dvargasar6/Python-basico/blob/main/ImportSinceDrive.ipynb\" target=\"_parent\"><img src=\"https://colab.research.google.com/assets/colab-badge.svg\" alt=\"Open In Colab\"/></a>"
      ]
    },
    {
      "cell_type": "markdown",
      "source": [
        "We use `drive.mount` for mount us Google Drive account in Google Colaboratory."
      ],
      "metadata": {
        "id": "uAvNRL1_gMh9"
      }
    },
    {
      "cell_type": "code",
      "execution_count": null,
      "metadata": {
        "colab": {
          "base_uri": "https://localhost:8080/"
        },
        "id": "LEsnudjUfLBJ",
        "outputId": "3424f52f-efec-4be6-fa6a-bdadc28dd5ad"
      },
      "outputs": [
        {
          "output_type": "stream",
          "name": "stdout",
          "text": [
            "Drive already mounted at /content/drive; to attempt to forcibly remount, call drive.mount(\"/content/drive\", force_remount=True).\n"
          ]
        }
      ],
      "source": [
        "from google.colab import drive\n",
        "drive.mount('/content/drive')"
      ]
    },
    {
      "cell_type": "markdown",
      "source": [
        "We can verify that the amount has been made correctly and see a list of its contents with `! ls`."
      ],
      "metadata": {
        "id": "Kd-Vgw89gtz1"
      }
    },
    {
      "cell_type": "code",
      "source": [
        "! ls /content/drive/MyDrive/Activities/"
      ],
      "metadata": {
        "colab": {
          "base_uri": "https://localhost:8080/"
        },
        "id": "KN-fYr7QfxKg",
        "outputId": "9ed8745c-62e0-430a-dfdf-02219f0a512f"
      },
      "execution_count": null,
      "outputs": [
        {
          "output_type": "stream",
          "name": "stdout",
          "text": [
            "Activities.xlsx  Investigación.gdoc  Investigación.gsheet  Rutina.docx\n"
          ]
        }
      ]
    },
    {
      "cell_type": "markdown",
      "source": [
        "We get the path of the file we want to upload and then we can upload it as we normally do."
      ],
      "metadata": {
        "id": "Y_ryTh5FhMb2"
      }
    },
    {
      "cell_type": "code",
      "source": [
        "path = '/content/drive/MyDrive/Activities/Activities.xlsx'\n",
        "import pandas as pd\n",
        "df = pd.read_excel(path)"
      ],
      "metadata": {
        "id": "eRNzaGNEiOpU"
      },
      "execution_count": null,
      "outputs": []
    }
  ]
}